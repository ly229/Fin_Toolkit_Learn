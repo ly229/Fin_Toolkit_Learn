{
 "cells": [
  {
   "cell_type": "code",
   "execution_count": 1,
   "id": "c6c100e0-e369-4634-b827-8041f7ce11ce",
   "metadata": {},
   "outputs": [],
   "source": [
    "# set working directory to currtent folder\n",
    "import os \n",
    "os.chdir(\"github/Fin_Toolkit_Learn/Data_Analysis/\")"
   ]
  },
  {
   "cell_type": "code",
   "execution_count": 1,
   "id": "5434c2ce-d8fc-4b42-b844-480582a58fcf",
   "metadata": {},
   "outputs": [],
   "source": [
    "import numpy as np\n",
    "import pandas as pd\n",
    "import yfinance as yf\n",
    "import matplotlib.pyplot as plt\n",
    "from sklearn.mixture import GaussianMixture\n",
    "import datetime"
   ]
  },
  {
   "cell_type": "code",
   "execution_count": 21,
   "id": "ba079bc4-6dc9-4239-9809-36ea2837c529",
   "metadata": {},
   "outputs": [
    {
     "name": "stdin",
     "output_type": "stream",
     "text": [
      "Enter the stock ticker:  aapl\n"
     ]
    }
   ],
   "source": [
    "# User input for the stock ticker symbol\n",
    "ticker = input(\"Enter the stock ticker: \").strip().upper().replace(\"$\", \"\")\n",
    "#strip(): remove extra white space\n",
    "#uper(): converts to uppercase"
   ]
  },
  {
   "cell_type": "markdown",
   "id": "078ec49f-9e96-4266-9256-d1dc69d1e529",
   "metadata": {},
   "source": [
    "### Download data without YFiance rate limits error"
   ]
  },
  {
   "cell_type": "code",
   "execution_count": 2,
   "id": "ae6a793c-2334-461b-87ab-f1ef5f15a6d9",
   "metadata": {},
   "outputs": [],
   "source": [
    "from curl_cffi import requests"
   ]
  },
  {
   "cell_type": "markdown",
   "id": "c03fae02-7316-40be-9054-e1037af26543",
   "metadata": {},
   "source": [
    "#### Hisotrical Data"
   ]
  },
  {
   "cell_type": "code",
   "execution_count": 3,
   "id": "23708777-bd19-468d-a0ed-8232f46e6a5f",
   "metadata": {},
   "outputs": [],
   "source": [
    "ticker = 'AAPL'"
   ]
  },
  {
   "cell_type": "code",
   "execution_count": null,
   "id": "89044bf2-d4dc-48b7-a7ad-1b942f7d2aa9",
   "metadata": {},
   "outputs": [],
   "source": [
    "### Issue happens with YFinance , their eigiene is currently down!!!"
   ]
  },
  {
   "cell_type": "code",
   "execution_count": 14,
   "id": "9faeb93d-d908-4a14-8e10-524994adb1ac",
   "metadata": {},
   "outputs": [
    {
     "name": "stderr",
     "output_type": "stream",
     "text": [
      "\n",
      "1 Failed download:\n",
      "['AAPL']: AttributeError(\"'str' object has no attribute 'name'\")\n"
     ]
    },
    {
     "name": "stdout",
     "output_type": "stream",
     "text": [
      "No data found for AAPL. Exiting.\n"
     ]
    }
   ],
   "source": [
    "def fetch_stock_data(ticker, years=5):\n",
    "    try:\n",
    "        # Calculate the start date\n",
    "        start_date = (datetime.date.today() - datetime.timedelta(days=int(365.25 * years))).strftime('%Y-%m-%d')\n",
    "        end_date = datetime.date.today().strftime('%Y-%m-%d')\n",
    "        \n",
    "        # Fetch historical data\n",
    "        data = yf.download(\n",
    "            tickers=ticker,\n",
    "            start=start_date,\n",
    "            end=end_date,\n",
    "            progress=False\n",
    "        )['Close']\n",
    "        \n",
    "        return data\n",
    "    except Exception as e:\n",
    "        print(f\"Error fetching data for {ticker}: {e}\")\n",
    "        return pd.Series(dtype=float)\n",
    "\n",
    "# Fetch stock data\n",
    "ticker = \"AAPL\"\n",
    "stock_data = fetch_stock_data(ticker, years=5)\n",
    "\n",
    "if stock_data.empty:\n",
    "    print(f\"No data found for {ticker}. Exiting.\")\n",
    "else:\n",
    "    print(stock_data.head())\n"
   ]
  },
  {
   "cell_type": "code",
   "execution_count": 10,
   "id": "6f359eb9-6ecf-4882-a680-ceae1b56a407",
   "metadata": {},
   "outputs": [
    {
     "name": "stderr",
     "output_type": "stream",
     "text": [
      "\n",
      "1 Failed download:\n",
      "['AAPL']: AttributeError(\"'str' object has no attribute 'name'\")\n"
     ]
    },
    {
     "name": "stdout",
     "output_type": "stream",
     "text": [
      "No data found for AAPL. Exiting.\n"
     ]
    }
   ],
   "source": [
    "# Create a custom session that impersonates a Chrome browser\n",
    "session = requests.Session(impersonate=\"chrome\")\n",
    "\n",
    "n=5\n",
    "\n",
    "def fetch_stock_data(ticker, years=n, session=None):\n",
    "    try:\n",
    "        # Calculate the start date and end date\n",
    "        start_date = datetime.date.today() - datetime.timedelta(days=int(365.25 * years))\n",
    "        end_date = datetime.date.today()\n",
    "        \n",
    "        data = yf.download(\n",
    "            tickers=ticker,\n",
    "            start=start_date,\n",
    "            end=end_date,\n",
    "            session=session,\n",
    "            progress=False\n",
    "         )['Adj Close']\n",
    "        return data\n",
    "    except Exception as e:\n",
    "        print(f\"Error fetching data for {ticker}: {e}\")\n",
    "        return pd.Series()\n",
    "    \n",
    "# Fetch stock data\n",
    "stock_data = fetch_stock_data(ticker, years=n, session=session)\n",
    "if stock_data.empty:\n",
    "    print(f\"No data found for {ticker}. Exiting.\")\n",
    "else:\n",
    "    print(f\"Data successfully fetched for {ticker}.\")\n",
    "    print(stock_data.head())"
   ]
  },
  {
   "cell_type": "code",
   "execution_count": 15,
   "id": "cdf8b142-cad1-4782-9a12-aaf09db3e2e4",
   "metadata": {},
   "outputs": [
    {
     "name": "stderr",
     "output_type": "stream",
     "text": [
      "$AAPL: possibly delisted; no price data found  (1d 2020-05-15 -> 2025-05-15)\n"
     ]
    }
   ],
   "source": [
    "# Fetch stock data for the past 5 years\n",
    "start = datetime.date.today() - datetime.timedelta(days=int(365.25 * 5))\n",
    "ticker = 'AAPL'\n",
    "try:\n",
    "    stock_data = yf.Ticker(ticker, session=session).history(start=start)['Adj Close']\n",
    "except Exception as e:\n",
    "    print(f\"Error fetching data for {ticker}: {e}\")\n",
    "    exit()"
   ]
  },
  {
   "cell_type": "code",
   "execution_count": 10,
   "id": "fbeb24c2-1780-4d75-bb5b-ea2b5421343d",
   "metadata": {},
   "outputs": [
    {
     "ename": "NameError",
     "evalue": "name 'stock_data' is not defined",
     "output_type": "error",
     "traceback": [
      "\u001b[0;31m---------------------------------------------------------------------------\u001b[0m",
      "\u001b[0;31mNameError\u001b[0m                                 Traceback (most recent call last)",
      "Cell \u001b[0;32mIn[10], line 1\u001b[0m\n\u001b[0;32m----> 1\u001b[0m \u001b[43mstock_data\u001b[49m\u001b[38;5;241m.\u001b[39mhead\n",
      "\u001b[0;31mNameError\u001b[0m: name 'stock_data' is not defined"
     ]
    }
   ],
   "source": [
    "stock_data.head"
   ]
  },
  {
   "cell_type": "markdown",
   "id": "ed326342-72b9-4a95-940e-8605483c0185",
   "metadata": {},
   "source": [
    "#### Index Benchmark"
   ]
  },
  {
   "cell_type": "code",
   "execution_count": null,
   "id": "1284bd5c-f8e5-4a9c-b2bf-795b1f5e7ce4",
   "metadata": {},
   "outputs": [],
   "source": [
    "index = 'SPY'  # S&P500 as the index for comparison"
   ]
  },
  {
   "cell_type": "markdown",
   "id": "a4d6255d-3b74-4a19-a075-5483434726ea",
   "metadata": {},
   "source": [
    "### Plot Historical Data and Distribution"
   ]
  },
  {
   "cell_type": "code",
   "execution_count": 9,
   "id": "f8621012-daf6-4c09-826a-1a71f3dd019d",
   "metadata": {},
   "outputs": [
    {
     "ename": "NameError",
     "evalue": "name 'stock_data' is not defined",
     "output_type": "error",
     "traceback": [
      "\u001b[0;31m---------------------------------------------------------------------------\u001b[0m",
      "\u001b[0;31mNameError\u001b[0m                                 Traceback (most recent call last)",
      "Cell \u001b[0;32mIn[9], line 3\u001b[0m\n\u001b[1;32m      1\u001b[0m \u001b[38;5;66;03m# Plotting stock prices and their distribution\u001b[39;00m\n\u001b[1;32m      2\u001b[0m fig, ax \u001b[38;5;241m=\u001b[39m plt\u001b[38;5;241m.\u001b[39msubplots(\u001b[38;5;241m1\u001b[39m, \u001b[38;5;241m2\u001b[39m, figsize\u001b[38;5;241m=\u001b[39m(\u001b[38;5;241m15\u001b[39m, \u001b[38;5;241m10\u001b[39m))\n\u001b[0;32m----> 3\u001b[0m \u001b[43mstock_data\u001b[49m\u001b[38;5;241m.\u001b[39mplot(title\u001b[38;5;241m=\u001b[39m\u001b[38;5;124mf\u001b[39m\u001b[38;5;124m'\u001b[39m\u001b[38;5;132;01m{\u001b[39;00mticker\u001b[38;5;241m.\u001b[39mupper()\u001b[38;5;132;01m}\u001b[39;00m\u001b[38;5;124m Price\u001b[39m\u001b[38;5;124m'\u001b[39m, ax\u001b[38;5;241m=\u001b[39max[\u001b[38;5;241m0\u001b[39m])\n\u001b[1;32m      4\u001b[0m stock_data\u001b[38;5;241m.\u001b[39mplot\u001b[38;5;241m.\u001b[39mhist(title\u001b[38;5;241m=\u001b[39m\u001b[38;5;124mf\u001b[39m\u001b[38;5;124m'\u001b[39m\u001b[38;5;132;01m{\u001b[39;00mticker\u001b[38;5;241m.\u001b[39mupper()\u001b[38;5;132;01m}\u001b[39;00m\u001b[38;5;124m Price Distribution\u001b[39m\u001b[38;5;124m'\u001b[39m, ax\u001b[38;5;241m=\u001b[39max[\u001b[38;5;241m1\u001b[39m], bins\u001b[38;5;241m=\u001b[39m\u001b[38;5;241m30\u001b[39m)\n\u001b[1;32m      5\u001b[0m plt\u001b[38;5;241m.\u001b[39mtight_layout()\n",
      "\u001b[0;31mNameError\u001b[0m: name 'stock_data' is not defined"
     ]
    },
    {
     "data": {
      "image/png": "[encoded data removed]",
      "text/plain": [
       "<Figure size 1500x1000 with 2 Axes>"
      ]
     },
     "metadata": {},
     "output_type": "display_data"
    }
   ],
   "source": [
    "# Plotting stock prices and their distribution\n",
    "fig, ax = plt.subplots(1, 2, figsize=(15, 10))\n",
    "stock_data.plot(title=f'{ticker.upper()} Price', ax=ax[0])\n",
    "stock_data.plot.hist(title=f'{ticker.upper()} Price Distribution', ax=ax[1], bins=30)\n",
    "plt.tight_layout()\n",
    "plt.show()"
   ]
  },
  {
   "cell_type": "code",
   "execution_count": null,
   "id": "538abaca-e6a6-4fd1-b334-2130abf21272",
   "metadata": {},
   "outputs": [],
   "source": [
    "# Calculating and plotting stock returns\n",
    "stock_returns = stock_data.apply(np.log).diff(1)\n",
    "fig, ax = plt.subplots(1, 2, figsize=(15, 10))\n",
    "stock_returns.plot(title=f'{ticker.upper()} Returns', ax=ax[0])\n",
    "stock_returns.plot.hist(title=f'{ticker.upper()} Returns Distribution', ax=ax[1], bins=30)\n",
    "plt.tight_layout()\n",
    "plt.show()\n",
    "\n",
    "# Rolling statistics for stock returns\n",
    "rolling_window = 22\n",
    "rolling_mean = stock_returns.rolling(rolling_window).mean()\n",
    "rolling_std = stock_returns.rolling(rolling_window).std()\n",
    "rolling_skew = stock_returns.rolling(rolling_window).skew()\n",
    "rolling_kurtosis = stock_returns.rolling(rolling_window).kurt()\n",
    "\n",
    "# Combining rolling statistics into a DataFrame\n",
    "signals = pd.concat([rolling_mean, rolling_std, rolling_skew, rolling_kurtosis], axis=1)\n",
    "signals.columns = ['Mean', 'Std Dev', 'Skewness', 'Kurtosis']\n",
    "signals.plot(subplots=True, figsize=(15, 10))\n",
    "plt.tight_layout()\n",
    "plt.show()\n",
    "\n",
    "# Volatility analysis for S&P500\n",
    "index_data = yf.download(index, start=start)['Adj Close']\n",
    "index_returns = index_data.apply(np.log).diff(1)\n",
    "index_volatility = index_returns.rolling(rolling_window).std()\n",
    "\n",
    "# Gaussian Mixture Model on S&P500 volatility\n",
    "gmm_labels = GaussianMixture(2).fit_predict(index_volatility.values.reshape(-1, 1))\n",
    "index_data = index_data.reindex(index_volatility.index)\n",
    "\n",
    "# Plotting volatility regimes\n",
    "plt.figure()\n",
    "index_data[gmm_labels == 0].plot(style='bo', alpha=0.2)\n",
    "index_data[gmm_labels == 1].plot(style='ro', alpha=0.2)\n",
    "plt.title(f'{index} Volatility Regimes (Gaussian Mixture)')\n",
    "plt.tight_layout()\n",
    "plt.show()"
   ]
  },
  {
   "cell_type": "code",
   "execution_count": null,
   "id": "418e0e3e-56b4-415f-990f-7ae16d0ff76a",
   "metadata": {},
   "outputs": [],
   "source": []
  }
 ],
 "metadata": {
  "kernelspec": {
   "display_name": "Python 3 (ipykernel)",
   "language": "python",
   "name": "python3"
  },
  "language_info": {
   "codemirror_mode": {
    "name": "ipython",
    "version": 3
   },
   "file_extension": ".py",
   "mimetype": "text/x-python",
   "name": "python",
   "nbconvert_exporter": "python",
   "pygments_lexer": "ipython3",
   "version": "3.12.3"
  }
 },
 "nbformat": 4,
 "nbformat_minor": 5
}
