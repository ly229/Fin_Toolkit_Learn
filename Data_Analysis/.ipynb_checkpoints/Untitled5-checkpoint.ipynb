{
 "cells": [
  {
   "cell_type": "code",
   "execution_count": 2,
   "id": "d031b3f8-cf7a-4abd-8524-e1caf4939efc",
   "metadata": {},
   "outputs": [],
   "source": [
    "import os \n",
    "os.chdir(\"github/Fin_Toolkit_Learn/Data_Analysis/\")"
   ]
  },
  {
   "cell_type": "code",
   "execution_count": 9,
   "id": "43bd8d8a-1a5b-4ec7-9379-e187dff117c8",
   "metadata": {},
   "outputs": [],
   "source": [
    "import pandas as pd\n",
    "\n",
    "pd.DataFrame(data = {\"A\" : [1]}).to_csv(\"demo.txt\")"
   ]
  }
 ],
 "metadata": {
  "kernelspec": {
   "display_name": "Python 3 (ipykernel)",
   "language": "python",
   "name": "python3"
  },
  "language_info": {
   "codemirror_mode": {
    "name": "ipython",
    "version": 3
   },
   "file_extension": ".py",
   "mimetype": "text/x-python",
   "name": "python",
   "nbconvert_exporter": "python",
   "pygments_lexer": "ipython3",
   "version": "3.12.2"
  }
 },
 "nbformat": 4,
 "nbformat_minor": 5
}
