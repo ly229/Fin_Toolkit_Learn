{
 "cells": [
  {
   "cell_type": "code",
   "execution_count": 1,
   "id": "4b34a3f4-4c08-4c56-946a-1f3101b5f704",
   "metadata": {},
   "outputs": [],
   "source": [
    "import yfinance as yf\n",
    "import datetime"
   ]
  },
  {
   "cell_type": "code",
   "execution_count": 4,
   "id": "12341561-a288-4d44-ada8-5c236dd15176",
   "metadata": {},
   "outputs": [],
   "source": [
    "TICKERS = 'AAPL'"
   ]
  },
  {
   "cell_type": "code",
   "execution_count": 6,
   "id": "0528bd02-94c7-4998-b8ab-12858263035e",
   "metadata": {},
   "outputs": [
    {
     "ename": "IndentationError",
     "evalue": "unexpected indent (2131043951.py, line 2)",
     "output_type": "error",
     "traceback": [
      "\u001b[0;36m  Cell \u001b[0;32mIn[6], line 2\u001b[0;36m\u001b[0m\n\u001b[0;31m    START_DATE = (datetime.date.today() - datetime.timedelta(days=int(365.25 * years))).strftime('%Y-%m-%d')\u001b[0m\n\u001b[0m    ^\u001b[0m\n\u001b[0;31mIndentationError\u001b[0m\u001b[0;31m:\u001b[0m unexpected indent\n"
     ]
    }
   ],
   "source": [
    " # Calculate the start date\n",
    "        START_DATE = (datetime.date.today() - datetime.timedelta(days=int(365.25 * years))).strftime('%Y-%m-%d')\n",
    "        END_DATE = datetime.date.today().strftime('%Y-%m-%d')\n",
    "\n",
    "data = yf.download(' '.join(TICKERS), start=START_DATE, end=END_DATE,\n",
    "                   group_by='ticker')\n",
    "\n",
    "tickers_to_retry = []\n",
    "\n",
    "for ticker in TICKERS:\n",
    "    download_success = [r for r in data[ticker]['Close'] if r > 0]\n",
    "    if download_success:\n",
    "        CASHED_DATA[ticker] = {'close': [r for r in data[ticker]['Close']],\n",
    "                               'row_data': data[ticker],\n",
    "                               'low': [r for r in data[ticker]['Low']],\n",
    "                               'high': [r for r in data[ticker]['High']]}\n",
    "    else:\n",
    "        tickers_to_retry.append(ticker)\n",
    "\n",
    "if tickers_to_retry:\n",
    "    data = yf.download(' '.join(tickers_to_retry), start=START_DATE, end=END_DATE,\n",
    "                       group_by='ticker')\n",
    "\n",
    "for ticker in tickers_to_retry:\n",
    "    download_success = [r for r in data[ticker]['Close'] if r > 0]\n",
    "    if download_success:\n",
    "        CASHED_DATA[ticker] = {'close': [r for r in data[ticker]['Close']],\n",
    "                               'row_data': data[ticker],\n",
    "                               'low': [r for r in data[ticker]['Low']],\n",
    "                               'high': [r for r in data[ticker]['High']]}"
   ]
  },
  {
   "cell_type": "code",
   "execution_count": null,
   "id": "0a69bf1e-6606-4e32-9206-88d44ea9e94a",
   "metadata": {},
   "outputs": [],
   "source": []
  }
 ],
 "metadata": {
  "kernelspec": {
   "display_name": "Python 3 (ipykernel)",
   "language": "python",
   "name": "python3"
  },
  "language_info": {
   "codemirror_mode": {
    "name": "ipython",
    "version": 3
   },
   "file_extension": ".py",
   "mimetype": "text/x-python",
   "name": "python",
   "nbconvert_exporter": "python",
   "pygments_lexer": "ipython3",
   "version": "3.12.3"
  }
 },
 "nbformat": 4,
 "nbformat_minor": 5
}
