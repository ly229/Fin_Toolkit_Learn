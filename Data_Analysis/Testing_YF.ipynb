{
 "cells": [
  {
   "cell_type": "code",
   "execution_count": 1,
   "id": "4b34a3f4-4c08-4c56-946a-1f3101b5f704",
   "metadata": {},
   "outputs": [],
   "source": [
    "import yfinance as yf\n",
    "import datetime"
   ]
  },
  {
   "cell_type": "markdown",
   "id": "3978456a-af90-4f1f-ad0c-6b1f876bf597",
   "metadata": {},
   "source": [
    "### Issue with YF ticker\n",
    "- possiblu fix the next day\n",
    "- add some retry mechanism, but not working well"
   ]
  },
  {
   "cell_type": "code",
   "execution_count": 4,
   "id": "12341561-a288-4d44-ada8-5c236dd15176",
   "metadata": {},
   "outputs": [],
   "source": [
    "TICKERS = 'AAPL'"
   ]
  },
  {
   "cell_type": "code",
   "execution_count": 9,
   "id": "0528bd02-94c7-4998-b8ab-12858263035e",
   "metadata": {},
   "outputs": [
    {
     "name": "stderr",
     "output_type": "stream",
     "text": [
      "Failed to get ticker 'L' reason: 'str' object has no attribute 'name'\n",
      "Failed to get ticker 'A' reason: 'str' object has no attribute 'name'\n",
      "Failed to get ticker 'P' reason: 'str' object has no attribute 'name'\n",
      "[*********************100%***********************]  2 of 3 completed\n",
      "\n",
      "3 Failed downloads:\n",
      "['L', 'A']: AttributeError(\"'str' object has no attribute 'name'\")\n",
      "[**********************67%*******                ]  2 of 3 completed['P']: YFTzMissingError('possibly delisted; no timezone found')\n",
      "Failed to get ticker 'L' reason: 'str' object has no attribute 'name'\n",
      "Failed to get ticker 'A' reason: 'str' object has no attribute 'name'\n",
      "[                       0%                       ]Failed to get ticker 'P' reason: 'str' object has no attribute 'name'\n",
      "[*********************100%***********************]  3 of 3 completed\n",
      "\n",
      "3 Failed downloads:\n",
      "['L', 'A', 'P']: YFTzMissingError('possibly delisted; no timezone found')\n"
     ]
    }
   ],
   "source": [
    " # Calculate the start date\n",
    "years = 1\n",
    "START_DATE = (datetime.date.today() - datetime.timedelta(days=int(365.25 * years))).strftime('%Y-%m-%d')\n",
    "END_DATE = datetime.date.today().strftime('%Y-%m-%d')\n",
    "\n",
    "data = yf.download(' '.join(TICKERS), start=START_DATE, end=END_DATE,\n",
    "                   group_by='ticker')\n",
    "\n",
    "tickers_to_retry = []\n",
    "\n",
    "for ticker in TICKERS:\n",
    "    download_success = [r for r in data[ticker]['Close'] if r > 0]\n",
    "    if download_success:\n",
    "        CASHED_DATA[ticker] = {'close': [r for r in data[ticker]['Close']],\n",
    "                               'row_data': data[ticker],\n",
    "                               'low': [r for r in data[ticker]['Low']],\n",
    "                               'high': [r for r in data[ticker]['High']]}\n",
    "    else:\n",
    "        tickers_to_retry.append(ticker)\n",
    "\n",
    "if tickers_to_retry:\n",
    "    data = yf.download(' '.join(tickers_to_retry), start=START_DATE, end=END_DATE,\n",
    "                       group_by='ticker')\n",
    "\n",
    "for ticker in tickers_to_retry:\n",
    "    download_success = [r for r in data[ticker]['Close'] if r > 0]\n",
    "    if download_success:\n",
    "        CASHED_DATA[ticker] = {'close': [r for r in data[ticker]['Close']],\n",
    "                               'row_data': data[ticker],\n",
    "                               'low': [r for r in data[ticker]['Low']],\n",
    "                               'high': [r for r in data[ticker]['High']]}"
   ]
  },
  {
   "cell_type": "code",
   "execution_count": 10,
   "id": "0a69bf1e-6606-4e32-9206-88d44ea9e94a",
   "metadata": {},
   "outputs": [
    {
     "data": {
      "text/html": [
       "<div>\n",
       "<style scoped>\n",
       "    .dataframe tbody tr th:only-of-type {\n",
       "        vertical-align: middle;\n",
       "    }\n",
       "\n",
       "    .dataframe tbody tr th {\n",
       "        vertical-align: top;\n",
       "    }\n",
       "\n",
       "    .dataframe thead tr th {\n",
       "        text-align: left;\n",
       "    }\n",
       "\n",
       "    .dataframe thead tr:last-of-type th {\n",
       "        text-align: right;\n",
       "    }\n",
       "</style>\n",
       "<table border=\"1\" class=\"dataframe\">\n",
       "  <thead>\n",
       "    <tr>\n",
       "      <th>Ticker</th>\n",
       "      <th colspan=\"6\" halign=\"left\">L</th>\n",
       "      <th colspan=\"6\" halign=\"left\">A</th>\n",
       "      <th colspan=\"6\" halign=\"left\">P</th>\n",
       "    </tr>\n",
       "    <tr>\n",
       "      <th>Price</th>\n",
       "      <th>Open</th>\n",
       "      <th>High</th>\n",
       "      <th>Low</th>\n",
       "      <th>Close</th>\n",
       "      <th>Adj Close</th>\n",
       "      <th>Volume</th>\n",
       "      <th>Open</th>\n",
       "      <th>High</th>\n",
       "      <th>Low</th>\n",
       "      <th>Close</th>\n",
       "      <th>Adj Close</th>\n",
       "      <th>Volume</th>\n",
       "      <th>Open</th>\n",
       "      <th>High</th>\n",
       "      <th>Low</th>\n",
       "      <th>Close</th>\n",
       "      <th>Adj Close</th>\n",
       "      <th>Volume</th>\n",
       "    </tr>\n",
       "    <tr>\n",
       "      <th>Date</th>\n",
       "      <th></th>\n",
       "      <th></th>\n",
       "      <th></th>\n",
       "      <th></th>\n",
       "      <th></th>\n",
       "      <th></th>\n",
       "      <th></th>\n",
       "      <th></th>\n",
       "      <th></th>\n",
       "      <th></th>\n",
       "      <th></th>\n",
       "      <th></th>\n",
       "      <th></th>\n",
       "      <th></th>\n",
       "      <th></th>\n",
       "      <th></th>\n",
       "      <th></th>\n",
       "      <th></th>\n",
       "    </tr>\n",
       "  </thead>\n",
       "  <tbody>\n",
       "  </tbody>\n",
       "</table>\n",
       "</div>"
      ],
      "text/plain": [
       "Empty DataFrame\n",
       "Columns: [(L, Open), (L, High), (L, Low), (L, Close), (L, Adj Close), (L, Volume), (A, Open), (A, High), (A, Low), (A, Close), (A, Adj Close), (A, Volume), (P, Open), (P, High), (P, Low), (P, Close), (P, Adj Close), (P, Volume)]\n",
       "Index: []"
      ]
     },
     "execution_count": 10,
     "metadata": {},
     "output_type": "execute_result"
    }
   ],
   "source": [
    "data"
   ]
  },
  {
   "cell_type": "code",
   "execution_count": null,
   "id": "f1363151-7aca-4a17-b5b9-e15474b3b3a4",
   "metadata": {},
   "outputs": [],
   "source": []
  }
 ],
 "metadata": {
  "kernelspec": {
   "display_name": "Python 3 (ipykernel)",
   "language": "python",
   "name": "python3"
  },
  "language_info": {
   "codemirror_mode": {
    "name": "ipython",
    "version": 3
   },
   "file_extension": ".py",
   "mimetype": "text/x-python",
   "name": "python",
   "nbconvert_exporter": "python",
   "pygments_lexer": "ipython3",
   "version": "3.12.3"
  }
 },
 "nbformat": 4,
 "nbformat_minor": 5
}
