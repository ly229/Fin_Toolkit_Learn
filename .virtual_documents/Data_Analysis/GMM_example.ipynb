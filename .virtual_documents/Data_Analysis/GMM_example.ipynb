#conda install -c conda-forge linearmodels


import numpy as np
import pandas as pd
import matplotlib.pyplot as plt
import seaborn as sns
import statsmodels.api as sm
from linearmodels.iv import IVGMM
from mpl_toolkits.mplot3d import Axes3D


import os





# Set random seed for reproducibility
np.random.seed(42)

# Generate sample data
n = 1000
X = np.random.normal(size=(n, 2))  # generate 2 normally dist indepedent variables
Z = np.random.normal(size=(n, 2))  # generate 2 instruments from normal dist
beta = np.array([2, -1])  # True coefficients
epsilon = np.random.normal(scale=0.5, size=n)  # Noise term
y = (X @ beta + epsilon).reshape(-1, 1)  # Dependent variable
# y.reshape(-1,1) convert y vecotr(1000,) into a (1000,1) matrix for proper checking


# prepare dataframe
data_matrix = np.hstack([X, Z, y])  # (1000, 5)
df = pd.DataFrame(data_matrix, columns=["x1", "x2", "z1", "z2", "y"])

# np.hstack: combine X,Z,y into a matrix





X_ols = sm.add_constant(df[["x1", "x2"]])  # Add intercept
ols_model = sm.OLS(df["y"], X_ols)
ols_results = ols_model.fit()





formula = "y ~ 1 + [ x1 + x2 ~ z1 + z2]"
gmm_model = IVGMM.from_formula(formula, df)
gmm_results = gmm_model.fit()


gmm_results


save_dir = '/Users/lu/Desktop/AI_Economics/Finance_ML/figures'
os.makedirs(save_dir, exist_ok=True)


# Get predicted values and residuals
y_pred = gmm_results.fitted_values
residuals = gmm_results.resids

# 1. Plot Actual vs Predicted Values
plt.figure(figsize=(12, 6))
plt.scatter(df["y"], y_pred, alpha=0.7, label="Data")
plt.plot([min(df["y"]), max(df["y"])], [min(df["y"]), max(df["y"])], color="red", linewidth=2, label="Perfect Fit")
plt.title("Actual vs Predicted Values")
plt.xlabel("Actual y")
plt.ylabel("Predicted y")
plt.legend()
plt.savefig(os.path.join(save_dir, "actual_vs_predicted_values.png"))
plt.show() # save first, then show to avoid blank issues
plt.close()  # Close the figure to avoid overlap or blank issues


# 2. Plot Residual Distribution
plt.figure(figsize=(12, 6))
sns.histplot(residuals, kde=True)
plt.title("Residual Distribution")
plt.xlabel("Residuals")
plt.savefig(os.path.join(save_dir, "residual_distribution.png"))
plt.show()
plt.close()  # Close the figure to avoid overlap or blank issues


# 3. Plot Coefficients from GMM results
coefficients = gmm_results.params
plt.figure(figsize=(10, 6))
coefficients.plot(kind='bar', color='skyblue', edgecolor='black')
plt.title("GMM Estimated Coefficients")
plt.ylabel("Estimated Coefficients")
plt.xlabel("Variables")
plt.savefig(os.path.join(save_dir, "gmm_estimated_coefficients.png"))
plt.show()
plt.close()  # Close the figure to avoid overlap or blank issues




